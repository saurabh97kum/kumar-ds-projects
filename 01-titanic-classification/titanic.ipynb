# titanic.ipynb

# 1. Imports
import pandas as pd
import numpy as np
import matplotlib.pyplot as plt
import seaborn as sns

# 2. Load data
train_df = pd.read_csv("data/train.csv")
test_df = pd.read_csv("data/test.csv")

# 3. Exploratory Data Analysis (EDA)
train_df.head()
train_df.info()
train_df.describe()

# 4. Data Cleaning
# 5. Feature Engineering
# 6. Model Building (Logistic Regression, RandomForest)
# 7. Evaluation
# 8. Final Predictions

